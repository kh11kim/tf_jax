{
 "cells": [
  {
   "cell_type": "code",
   "execution_count": 2,
   "metadata": {},
   "outputs": [],
   "source": [
    "import jax.numpy as jnp\n",
    "from jax import lax, jit\n",
    "import numpy as np\n",
    "from scipy.spatial.transform import Rotation"
   ]
  },
  {
   "cell_type": "code",
   "execution_count": 92,
   "metadata": {},
   "outputs": [],
   "source": [
    "def hat(omg):\n",
    "    return jnp.array([[0, -omg[2], omg[1]],\n",
    "                      [omg[2], 0, -omg[0]],\n",
    "                      [-omg[1], omg[0], 0]])\n",
    "def vee(so3mat):\n",
    "    return jnp.array([so3mat[2,1], so3mat[0,2], so3mat[1,0]])\n",
    "    \n",
    "def ec(R):\n",
    "    def zero_angle(acosinput, R):\n",
    "        return jnp.zeros(3)\n",
    "    def pi_angle(acosinput, R):\n",
    "        def get_omg_case1(R):\n",
    "            return (1.0 / jnp.sqrt(2 * (1 + R[2,2]))) \\\n",
    "                  * jnp.array([R[0,2], R[1,2], 1 + R[2,2]])\n",
    "        def get_omg_case2(R):\n",
    "            return (1.0 / jnp.sqrt(2 * (1 + R[1,1]))) \\\n",
    "                  * jnp.array([R[0,1], 1 + R[1,1], R[2,1]])\n",
    "        def get_omg_case0(R):\n",
    "            return (1.0 / jnp.sqrt(2 * (1 + R[0,0]))) \\\n",
    "                  * jnp.array([1 + R[0,0], R[1,0], R[2,0]])\n",
    "        case1 = jnp.abs(1 + R[2,2]) >= 1e-10\n",
    "        case2 = jnp.abs(1 + R[1,1]) >= 1e-10\n",
    "        case = case1 + case2*2\n",
    "        return jnp.pi * lax.switch(case, (get_omg_case0, get_omg_case1, get_omg_case2), R)\n",
    "    def normal_case(acosinput, R):\n",
    "        angle = jnp.arccos(acosinput)\n",
    "        return angle / 2. / jnp.sin(angle) * vee(R - jnp.array(R).T)\n",
    "    acosinput = (jnp.trace(R) - 1.) / 2.0\n",
    "    is_zero_angle = acosinput >= 1.\n",
    "    is_pi_angle = acosinput <= -1.\n",
    "    cond = (is_zero_angle + is_pi_angle*2).astype(int)\n",
    "    return lax.switch(cond, (normal_case, zero_angle, pi_angle), acosinput, R)\n",
    "ec = jit(ec)"
   ]
  },
  {
   "cell_type": "code",
   "execution_count": 25,
   "metadata": {},
   "outputs": [],
   "source": [
    "from jax import lax\n",
    "def mat2rpy(R):\n",
    "    def singular_case(R, sy): #cos(p) = 0\n",
    "        r = jnp.arctan2(-R[1,2], R[1,1])\n",
    "        p = jnp.arctan2(-R[2,0], sy)\n",
    "        y = 0.\n",
    "        return jnp.array([r, p, y])\n",
    "    def normal_case(R, sy):\n",
    "        r = jnp.arctan2(R[2,1] , R[2,2])\n",
    "        p = jnp.arctan2(-R[2,0], sy)\n",
    "        y = jnp.arctan2(R[1,0], R[0,0])\n",
    "        return jnp.array([r, p, y])\n",
    "    sy = jnp.sqrt(R[2,1]**2 + R[2,2]**2)\n",
    "    return lax.cond(sy < 1e-6, singular_case, normal_case, R, sy)\n",
    "\n",
    "def rpy2mat(rpy):\n",
    "    #rpy vector should be jnp.array([r, p, y])\n",
    "    r, p, y = rpy\n",
    "    cx, sx, cy, sy, cz, sz = jnp.cos(r), jnp.sin(r), jnp.cos(p), jnp.sin(p), jnp.cos(y), jnp.sin(y)\n",
    "    return jnp.array([[cy*cz, sx*sy*cz-sz*cx, sx*sz+sy*cx*cz],\n",
    "                      [sz*cy, sx*sy*sz+cx*cz, -sx*cz+sy*sz*cx],\n",
    "                      [-sy,   sx*cy,          cx*cy]])"
   ]
  },
  {
   "cell_type": "code",
   "execution_count": 27,
   "metadata": {},
   "outputs": [
    {
     "data": {
      "text/plain": [
       "array([[ 0.93302866,  0.35612203,  0.05132852],\n",
       "       [ 0.18378387, -0.34906532, -0.91889983],\n",
       "       [-0.30932347,  0.86679323, -0.39113743]])"
      ]
     },
     "execution_count": 27,
     "metadata": {},
     "output_type": "execute_result"
    }
   ],
   "source": [
    "R = Rotation.random().as_matrix()\n",
    "R"
   ]
  },
  {
   "cell_type": "code",
   "execution_count": 28,
   "metadata": {},
   "outputs": [
    {
     "data": {
      "text/plain": [
       "Array([[ 0.93302864,  0.35612202,  0.05132856],\n",
       "       [ 0.18378389, -0.34906527, -0.9188999 ],\n",
       "       [-0.30932346,  0.8667933 , -0.39113742]], dtype=float32)"
      ]
     },
     "execution_count": 28,
     "metadata": {},
     "output_type": "execute_result"
    }
   ],
   "source": [
    "rpy2mat(mat2rpy(R))"
   ]
  },
  {
   "cell_type": "code",
   "execution_count": 22,
   "metadata": {},
   "outputs": [
    {
     "data": {
      "text/plain": [
       "array([ 1.50506082, -0.84967868, -2.73464721])"
      ]
     },
     "execution_count": 22,
     "metadata": {},
     "output_type": "execute_result"
    }
   ],
   "source": [
    "Rotation.from_matrix(R).as_euler(\"xyz\")"
   ]
  },
  {
   "cell_type": "code",
   "execution_count": 35,
   "metadata": {},
   "outputs": [
    {
     "data": {
      "text/plain": [
       "array([[-1.0000000e+00, -1.2246468e-16,  0.0000000e+00],\n",
       "       [ 1.2246468e-16, -1.0000000e+00,  0.0000000e+00],\n",
       "       [ 0.0000000e+00,  0.0000000e+00,  1.0000000e+00]])"
      ]
     },
     "execution_count": 35,
     "metadata": {},
     "output_type": "execute_result"
    }
   ],
   "source": [
    "# test cases\n",
    "#R = jnp.eye(3) #zero angle\n",
    "R = Rotation.from_euler(\"zxy\", [np.pi,0,0]).as_matrix() # pi angle case\n",
    "# R = jnp.array(Rotation.random().as_matrix()) #random angle\n",
    "R"
   ]
  },
  {
   "cell_type": "code",
   "execution_count": 36,
   "metadata": {},
   "outputs": [
    {
     "data": {
      "text/plain": [
       "Array([[-1.000000e+00,  8.742278e-08,  0.000000e+00],\n",
       "       [-8.742278e-08, -1.000000e+00,  0.000000e+00],\n",
       "       [ 0.000000e+00,  0.000000e+00,  1.000000e+00]], dtype=float32)"
      ]
     },
     "execution_count": 36,
     "metadata": {},
     "output_type": "execute_result"
    }
   ],
   "source": [
    "rpy2mat(mat2rpy(R))"
   ]
  },
  {
   "cell_type": "code",
   "execution_count": null,
   "metadata": {},
   "outputs": [],
   "source": []
  }
 ],
 "metadata": {
  "interpreter": {
   "hash": "916dbcbb3f70747c44a77c7bcd40155683ae19c65e1c03b4aa3499c5328201f1"
  },
  "kernelspec": {
   "display_name": "Python 3.8.10 64-bit",
   "language": "python",
   "name": "python3"
  },
  "language_info": {
   "codemirror_mode": {
    "name": "ipython",
    "version": 3
   },
   "file_extension": ".py",
   "mimetype": "text/x-python",
   "name": "python",
   "nbconvert_exporter": "python",
   "pygments_lexer": "ipython3",
   "version": "3.8.0"
  },
  "orig_nbformat": 4
 },
 "nbformat": 4,
 "nbformat_minor": 2
}
